{
 "cells": [
  {
   "cell_type": "code",
   "execution_count": 1,
   "metadata": {},
   "outputs": [
    {
     "data": {
      "text/plain": [
       "'/Users/reeteshsudhakar/Desktop/Work/Udemy/Intro to Python/Instructor Python Notebooks/12-Advanced Python Modules'"
      ]
     },
     "execution_count": 1,
     "metadata": {},
     "output_type": "execute_result"
    }
   ],
   "source": [
    "pwd"
   ]
  },
  {
   "cell_type": "code",
   "execution_count": 2,
   "metadata": {},
   "outputs": [],
   "source": [
    "f = open('practice.txt', 'w+')\n",
    "f.write('This is a test string')\n",
    "f.close()"
   ]
  },
  {
   "cell_type": "code",
   "execution_count": 3,
   "metadata": {},
   "outputs": [],
   "source": [
    "import os"
   ]
  },
  {
   "cell_type": "code",
   "execution_count": 4,
   "metadata": {},
   "outputs": [
    {
     "data": {
      "text/plain": [
       "'/Users/reeteshsudhakar/Desktop/Work/Udemy/Intro to Python/Instructor Python Notebooks/12-Advanced Python Modules'"
      ]
     },
     "execution_count": 4,
     "metadata": {},
     "output_type": "execute_result"
    }
   ],
   "source": [
    "os.getcwd()"
   ]
  },
  {
   "cell_type": "code",
   "execution_count": 5,
   "metadata": {},
   "outputs": [
    {
     "data": {
      "text/plain": [
       "['Example_Top_Level',\n",
       " '08-Advanced-Python-Module-Exercise',\n",
       " 'Untitled.ipynb',\n",
       " 'practice.txt',\n",
       " '00-Collections-Module.ipynb',\n",
       " '06-Timing your code - timeit.ipynb',\n",
       " '03-Math-and-Random-Module.ipynb',\n",
       " '02-Datetime-Module.ipynb',\n",
       " '05-Overview-of-Regular-Expressions.ipynb',\n",
       " '01-Opening-and-Reading-Files-Folders.ipynb',\n",
       " '.ipynb_checkpoints',\n",
       " '04-Python Debugger (pdb).ipynb',\n",
       " '07-Unzipping-and-Zipping-Files.ipynb']"
      ]
     },
     "execution_count": 5,
     "metadata": {},
     "output_type": "execute_result"
    }
   ],
   "source": [
    "os.listdir()"
   ]
  },
  {
   "cell_type": "code",
   "execution_count": 7,
   "metadata": {},
   "outputs": [
    {
     "data": {
      "text/plain": [
       "['Music',\n",
       " '.python_history-09591.tmp',\n",
       " '.condarc',\n",
       " '.DS_Store',\n",
       " '.Box_UIServer',\n",
       " '.CFUserTextEncoding',\n",
       " 'cardr',\n",
       " 'OneDrive',\n",
       " 'Pictures',\n",
       " '.pylint.d',\n",
       " '.Box_SyncToStreem',\n",
       " '.openjfx',\n",
       " '.ipython',\n",
       " 'Desktop',\n",
       " 'Library',\n",
       " 'APES Unit 1 quiz what I got wrong.txt',\n",
       " 'practice SPSS descriptive stats.pdf',\n",
       " '.oracle_jre_usage',\n",
       " 'iCloud Drive (Archive)',\n",
       " '.bash_profile.pysave',\n",
       " '.android',\n",
       " '.cups',\n",
       " '.bash_sessions',\n",
       " 'Public',\n",
       " '.dropbox',\n",
       " '.idlerc',\n",
       " 'Variables',\n",
       " '.IBM',\n",
       " 'iCloud Drive (Archive) - 5',\n",
       " 'iCloud Drive (Archive) - 2',\n",
       " '.anaconda',\n",
       " 'Movies',\n",
       " 'Applications',\n",
       " 'Dropbox',\n",
       " '.Box_EngineServer',\n",
       " '.Trash',\n",
       " '.ipynb_checkpoints',\n",
       " '.jupyter',\n",
       " 'Documents',\n",
       " '.spss',\n",
       " '.bash_profile',\n",
       " 'Downloads',\n",
       " '.python_history',\n",
       " '.Box_StreemToSync',\n",
       " '.bash_history',\n",
       " '.conda']"
      ]
     },
     "execution_count": 7,
     "metadata": {},
     "output_type": "execute_result"
    }
   ],
   "source": [
    "os.listdir('/Users/reeteshsudhakar')"
   ]
  },
  {
   "cell_type": "code",
   "execution_count": 8,
   "metadata": {},
   "outputs": [],
   "source": [
    "import shutil"
   ]
  },
  {
   "cell_type": "code",
   "execution_count": 9,
   "metadata": {},
   "outputs": [
    {
     "data": {
      "text/plain": [
       "'/Users/reeteshsudhakar/Downloads/practice.txt'"
      ]
     },
     "execution_count": 9,
     "metadata": {},
     "output_type": "execute_result"
    }
   ],
   "source": [
    "shutil.move('practice.txt', '/Users/reeteshsudhakar/Downloads')"
   ]
  },
  {
   "cell_type": "code",
   "execution_count": 10,
   "metadata": {},
   "outputs": [],
   "source": [
    "import send2trash"
   ]
  },
  {
   "cell_type": "code",
   "execution_count": 12,
   "metadata": {},
   "outputs": [
    {
     "data": {
      "text/plain": [
       "['Example_Top_Level',\n",
       " '08-Advanced-Python-Module-Exercise',\n",
       " 'Untitled.ipynb',\n",
       " '00-Collections-Module.ipynb',\n",
       " '06-Timing your code - timeit.ipynb',\n",
       " '03-Math-and-Random-Module.ipynb',\n",
       " '02-Datetime-Module.ipynb',\n",
       " '05-Overview-of-Regular-Expressions.ipynb',\n",
       " '01-Opening-and-Reading-Files-Folders.ipynb',\n",
       " '.ipynb_checkpoints',\n",
       " '04-Python Debugger (pdb).ipynb',\n",
       " '07-Unzipping-and-Zipping-Files.ipynb']"
      ]
     },
     "execution_count": 12,
     "metadata": {},
     "output_type": "execute_result"
    }
   ],
   "source": [
    "os.listdir()"
   ]
  },
  {
   "cell_type": "code",
   "execution_count": 14,
   "metadata": {},
   "outputs": [
    {
     "data": {
      "text/plain": [
       "'/Users/reeteshsudhakar/Desktop/Work/Udemy/Intro to Python/Instructor Python Notebooks/12-Advanced Python Modules'"
      ]
     },
     "execution_count": 14,
     "metadata": {},
     "output_type": "execute_result"
    }
   ],
   "source": [
    "os.getcwd()"
   ]
  },
  {
   "cell_type": "code",
   "execution_count": 17,
   "metadata": {},
   "outputs": [
    {
     "ename": "SyntaxError",
     "evalue": "invalid syntax (<ipython-input-17-d4983554900b>, line 1)",
     "output_type": "error",
     "traceback": [
      "\u001b[0;36m  File \u001b[0;32m\"<ipython-input-17-d4983554900b>\"\u001b[0;36m, line \u001b[0;32m1\u001b[0m\n\u001b[0;31m    for folder, sub_folders,files in os.walk('/Users/reeteshsudhakar/Desktop/Work/Udemy/Intro to Python/Instructor Python Notebooks/12-Advanced Python Modules/Example_Top_Level')\u001b[0m\n\u001b[0m                                                                                                                                                                                  ^\u001b[0m\n\u001b[0;31mSyntaxError\u001b[0m\u001b[0;31m:\u001b[0m invalid syntax\n"
     ]
    }
   ],
   "source": [
    "for folder, sub_folders,files in os.walk('/Users/reeteshsudhakar/Desktop/Work/Udemy/Intro to Python/Instructor Python Notebooks/12-Advanced Python Modules/Example_Top_Level')\n",
    "    print(f'Currently looking at{folder}')\n",
    "    print('\\n')\n",
    "    print('The subfolders are: ')\n",
    "    for sub_fold in sub_folders: \n",
    "        print(f'Subfolder: {sub_fold}\")\n",
    "    \n",
    "    print('\\n')\n",
    "    print('the files are: ')\n",
    "    for f in files:\n",
    "        print(f'\\t File: {f}')\n",
    "    print('\\n')"
   ]
  },
  {
   "cell_type": "code",
   "execution_count": null,
   "metadata": {},
   "outputs": [],
   "source": []
  }
 ],
 "metadata": {
  "kernelspec": {
   "display_name": "Python 3",
   "language": "python",
   "name": "python3"
  },
  "language_info": {
   "codemirror_mode": {
    "name": "ipython",
    "version": 3
   },
   "file_extension": ".py",
   "mimetype": "text/x-python",
   "name": "python",
   "nbconvert_exporter": "python",
   "pygments_lexer": "ipython3",
   "version": "3.8.5"
  }
 },
 "nbformat": 4,
 "nbformat_minor": 4
}
